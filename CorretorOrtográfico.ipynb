{
  "cells": [
    {
      "cell_type": "markdown",
      "metadata": {
        "id": "view-in-github",
        "colab_type": "text"
      },
      "source": [
        "<a href=\"https://colab.research.google.com/github/lucasbitu/Corretor-de-texto/blob/main/CorretorOrtogr%C3%A1fico.ipynb\" target=\"_parent\"><img src=\"https://colab.research.google.com/assets/colab-badge.svg\" alt=\"Open In Colab\"/></a>"
      ]
    },
    {
      "cell_type": "markdown",
      "source": [
        "Corretor Ortográfico by Lucas Bitu"
      ],
      "metadata": {
        "id": "YRuJONsH9fnp"
      }
    },
    {
      "cell_type": "code",
      "execution_count": 16,
      "metadata": {
        "colab": {
          "base_uri": "https://localhost:8080/"
        },
        "id": "4w8iNgp59SZ1",
        "outputId": "975393d3-529f-49c9-81a5-78b02131fcc5"
      },
      "outputs": [
        {
          "output_type": "stream",
          "name": "stdout",
          "text": [
            "\n",
            "\n",
            "\n",
            "imagem \n",
            "\n",
            "Temos a seguinte classe que representa um usuário no nosso sistema:\n",
            "\n",
            "java\n",
            "\n",
            "Para salvar um novo usuário, várias validações são feitas, como por exemplo: Ver se o nome só contém letras, [**o CPF só números**] e ver se o usuário possui no mínimo 18 anos. Veja o método que faz essa validação:\n",
            "\n",
            "java \n",
            "\n",
            "Suponha agora que eu tenha outra classe, a classe `Produto`, que contém um atributo nome e eu quero fazer a mesma validação que fiz para o nome do usuário: Ver se só contém letras. E aí? Vou\n"
          ]
        }
      ],
      "source": [
        "with open(\"artigos.txt\", \"r\") as f:\n",
        "    artigos = f.read()\n",
        "\n",
        "print(artigos[:500])"
      ]
    },
    {
      "cell_type": "code",
      "execution_count": 17,
      "metadata": {
        "colab": {
          "base_uri": "https://localhost:8080/"
        },
        "id": "CMiQsS__KL8a",
        "outputId": "6da946e8-05af-41c0-cae9-90fa17a11de4"
      },
      "outputs": [
        {
          "output_type": "execute_result",
          "data": {
            "text/plain": [
              "2605046"
            ]
          },
          "metadata": {},
          "execution_count": 17
        }
      ],
      "source": [
        "len(artigos)"
      ]
    },
    {
      "cell_type": "code",
      "execution_count": 18,
      "metadata": {
        "colab": {
          "base_uri": "https://localhost:8080/"
        },
        "id": "5H3VpslwSHc0",
        "outputId": "f6734d32-cb22-4580-b8f6-8831668a4492"
      },
      "outputs": [
        {
          "output_type": "stream",
          "name": "stderr",
          "text": [
            "[nltk_data] Downloading package punkt to /root/nltk_data...\n",
            "[nltk_data]   Package punkt is already up-to-date!\n"
          ]
        }
      ],
      "source": [
        "# Realiza a tokenização do artigo de texto\n",
        "\n",
        "import nltk\n",
        "nltk.download('punkt')\n",
        "\n",
        "lista_tokens = nltk.tokenize.word_tokenize(artigos)"
      ]
    },
    {
      "cell_type": "code",
      "execution_count": 19,
      "metadata": {
        "colab": {
          "base_uri": "https://localhost:8080/"
        },
        "id": "tjLIUpcRF0gG",
        "outputId": "ae0aa305-3586-43e9-c1d4-0a1e3a38e687"
      },
      "outputs": [
        {
          "output_type": "stream",
          "name": "stdout",
          "text": [
            "Número de palavras é 403031\n"
          ]
        }
      ],
      "source": [
        "# Remove os caracteres não alfabéticos\n",
        "\n",
        "def separa_palavras(lista_tokens):\n",
        "    lista_palavras = []\n",
        "    for token in lista_tokens:\n",
        "        if token.isalpha():\n",
        "            lista_palavras.append(token)\n",
        "    return lista_palavras\n",
        "\n",
        "lista_palavras = separa_palavras(lista_tokens)\n",
        "print(f\"Número de palavras é {len(lista_palavras)}\")"
      ]
    },
    {
      "cell_type": "code",
      "source": [
        "# Normaliza as palavras deixando todas minúsculas\n",
        "\n",
        "def normalizacao(lista_palavras):\n",
        "    lista_normalizada = []\n",
        "    for palavra in lista_palavras:\n",
        "        lista_normalizada.append(palavra.lower())\n",
        "    return lista_normalizada\n",
        "\n",
        "lista_normalizada = normalizacao(lista_palavras)\n",
        "print(lista_normalizada[:10])"
      ],
      "metadata": {
        "colab": {
          "base_uri": "https://localhost:8080/"
        },
        "id": "Ya_ZkGEuiubA",
        "outputId": "0519bc49-865d-4d5e-c0d0-e427d9d61e24"
      },
      "execution_count": 20,
      "outputs": [
        {
          "output_type": "stream",
          "name": "stdout",
          "text": [
            "['imagem', 'temos', 'a', 'seguinte', 'classe', 'que', 'representa', 'um', 'usuário', 'no']\n"
          ]
        }
      ]
    },
    {
      "cell_type": "code",
      "execution_count": 21,
      "metadata": {
        "colab": {
          "base_uri": "https://localhost:8080/"
        },
        "id": "aiaBKar-nBRA",
        "outputId": "80828a97-ff4e-41ff-a72b-338c684093c7"
      },
      "outputs": [
        {
          "output_type": "execute_result",
          "data": {
            "text/plain": [
              "18464"
            ]
          },
          "metadata": {},
          "execution_count": 21
        }
      ],
      "source": [
        "# Conta o número de palavras sem repetição\n",
        "\n",
        "vocabulario = set(lista_normalizada) \n",
        "len(set(lista_normalizada))"
      ]
    },
    {
      "cell_type": "code",
      "execution_count": 22,
      "metadata": {
        "colab": {
          "base_uri": "https://localhost:8080/"
        },
        "id": "52O3NR0TUsOD",
        "outputId": "3b04215b-20e8-4f33-840f-c156d6b6bc51"
      },
      "outputs": [
        {
          "output_type": "execute_result",
          "data": {
            "text/plain": [
              "[('de', 15502),\n",
              " ('o', 14056),\n",
              " ('que', 12230),\n",
              " ('a', 11099),\n",
              " ('e', 10501),\n",
              " ('para', 7710),\n",
              " ('um', 6367),\n",
              " ('é', 5899),\n",
              " ('uma', 5220),\n",
              " ('do', 5124)]"
            ]
          },
          "metadata": {},
          "execution_count": 22
        }
      ],
      "source": [
        "# Calcula a frequência de cada palavra no artigo\n",
        "\n",
        "frequencia = nltk.FreqDist(lista_normalizada)\n",
        "total_palavras = len(lista_normalizada)\n",
        "frequencia.most_common(10)"
      ]
    },
    {
      "cell_type": "code",
      "execution_count": 23,
      "metadata": {
        "id": "rOE_KSwhWFtj"
      },
      "outputs": [],
      "source": [
        "# Calcula a probabilidade da palavra gerada pela função gerador de palavras, ser a palavra correta\n",
        "# de acordo com a frequência dela dentre todas as palavras do corpus\n",
        "\n",
        "def probabilidade(palavra_gerada):\n",
        "    return frequencia[palavra_gerada]/total_palavras"
      ]
    },
    {
      "cell_type": "code",
      "execution_count": 24,
      "metadata": {
        "colab": {
          "base_uri": "https://localhost:8080/"
        },
        "id": "iRZQIUebW5Bx",
        "outputId": "968b2aee-a424-487b-b314-57c4a1f77066"
      },
      "outputs": [
        {
          "output_type": "execute_result",
          "data": {
            "text/plain": [
              "0.00023819507680550628"
            ]
          },
          "metadata": {},
          "execution_count": 24
        }
      ],
      "source": [
        "probabilidade(\"lógica\")"
      ]
    },
    {
      "cell_type": "code",
      "execution_count": 25,
      "metadata": {
        "colab": {
          "base_uri": "https://localhost:8080/"
        },
        "id": "bcs80q9DiwS0",
        "outputId": "2466325c-daef-4684-eabb-af773542da5e"
      },
      "outputs": [
        {
          "output_type": "stream",
          "name": "stdout",
          "text": [
            "['alógiac', 'blógiac', 'clógiac', 'dlógiac', 'elógiac', 'flógiac', 'glógiac', 'hlógiac', 'ilógiac', 'jlógiac', 'klógiac', 'llógiac', 'mlógiac', 'nlógiac', 'ológiac', 'plógiac', 'qlógiac', 'rlógiac', 'slógiac', 'tlógiac', 'ulógiac', 'vlógiac', 'wlógiac', 'xlógiac', 'ylógiac', 'zlógiac', 'álógiac', 'âlógiac', 'àlógiac', 'ãlógiac', 'élógiac', 'êlógiac', 'èlógiac', 'ẽlógiac', 'ílógiac', 'îlógiac', 'ìlógiac', 'ĩlógiac', 'ólógiac', 'ôlógiac', 'õlógiac', 'òlógiac', 'úlógiac', 'ûlógiac', 'ùlógiac', 'ũlógiac', 'çlógiac', 'laógiac', 'lbógiac', 'lcógiac', 'ldógiac', 'leógiac', 'lfógiac', 'lgógiac', 'lhógiac', 'liógiac', 'ljógiac', 'lkógiac', 'llógiac', 'lmógiac', 'lnógiac', 'loógiac', 'lpógiac', 'lqógiac', 'lrógiac', 'lsógiac', 'ltógiac', 'luógiac', 'lvógiac', 'lwógiac', 'lxógiac', 'lyógiac', 'lzógiac', 'láógiac', 'lâógiac', 'làógiac', 'lãógiac', 'léógiac', 'lêógiac', 'lèógiac', 'lẽógiac', 'líógiac', 'lîógiac', 'lìógiac', 'lĩógiac', 'lóógiac', 'lôógiac', 'lõógiac', 'lòógiac', 'lúógiac', 'lûógiac', 'lùógiac', 'lũógiac', 'lçógiac', 'lóagiac', 'lóbgiac', 'lócgiac', 'lódgiac', 'lóegiac', 'lófgiac', 'lóggiac', 'lóhgiac', 'lóigiac', 'lójgiac', 'lókgiac', 'lólgiac', 'lómgiac', 'lóngiac', 'lóogiac', 'lópgiac', 'lóqgiac', 'lórgiac', 'lósgiac', 'lótgiac', 'lóugiac', 'lóvgiac', 'lówgiac', 'lóxgiac', 'lóygiac', 'lózgiac', 'lóágiac', 'lóâgiac', 'lóàgiac', 'lóãgiac', 'lóégiac', 'lóêgiac', 'lóègiac', 'lóẽgiac', 'lóígiac', 'lóîgiac', 'lóìgiac', 'lóĩgiac', 'lóógiac', 'lóôgiac', 'lóõgiac', 'lóògiac', 'lóúgiac', 'lóûgiac', 'lóùgiac', 'lóũgiac', 'lóçgiac', 'lógaiac', 'lógbiac', 'lógciac', 'lógdiac', 'lógeiac', 'lógfiac', 'lóggiac', 'lóghiac', 'lógiiac', 'lógjiac', 'lógkiac', 'lógliac', 'lógmiac', 'lógniac', 'lógoiac', 'lógpiac', 'lógqiac', 'lógriac', 'lógsiac', 'lógtiac', 'lóguiac', 'lógviac', 'lógwiac', 'lógxiac', 'lógyiac', 'lógziac', 'lógáiac', 'lógâiac', 'lógàiac', 'lógãiac', 'lógéiac', 'lógêiac', 'lógèiac', 'lógẽiac', 'lógíiac', 'lógîiac', 'lógìiac', 'lógĩiac', 'lógóiac', 'lógôiac', 'lógõiac', 'lógòiac', 'lógúiac', 'lógûiac', 'lógùiac', 'lógũiac', 'lógçiac', 'lógiaac', 'lógibac', 'lógicac', 'lógidac', 'lógieac', 'lógifac', 'lógigac', 'lógihac', 'lógiiac', 'lógijac', 'lógikac', 'lógilac', 'lógimac', 'lóginac', 'lógioac', 'lógipac', 'lógiqac', 'lógirac', 'lógisac', 'lógitac', 'lógiuac', 'lógivac', 'lógiwac', 'lógixac', 'lógiyac', 'lógizac', 'lógiáac', 'lógiâac', 'lógiàac', 'lógiãac', 'lógiéac', 'lógiêac', 'lógièac', 'lógiẽac', 'lógiíac', 'lógiîac', 'lógiìac', 'lógiĩac', 'lógióac', 'lógiôac', 'lógiõac', 'lógiòac', 'lógiúac', 'lógiûac', 'lógiùac', 'lógiũac', 'lógiçac', 'lógiaac', 'lógiabc', 'lógiacc', 'lógiadc', 'lógiaec', 'lógiafc', 'lógiagc', 'lógiahc', 'lógiaic', 'lógiajc', 'lógiakc', 'lógialc', 'lógiamc', 'lógianc', 'lógiaoc', 'lógiapc', 'lógiaqc', 'lógiarc', 'lógiasc', 'lógiatc', 'lógiauc', 'lógiavc', 'lógiawc', 'lógiaxc', 'lógiayc', 'lógiazc', 'lógiaác', 'lógiaâc', 'lógiaàc', 'lógiaãc', 'lógiaéc', 'lógiaêc', 'lógiaèc', 'lógiaẽc', 'lógiaíc', 'lógiaîc', 'lógiaìc', 'lógiaĩc', 'lógiaóc', 'lógiaôc', 'lógiaõc', 'lógiaòc', 'lógiaúc', 'lógiaûc', 'lógiaùc', 'lógiaũc', 'lógiaçc', 'lógiaca', 'lógiacb', 'lógiacc', 'lógiacd', 'lógiace', 'lógiacf', 'lógiacg', 'lógiach', 'lógiaci', 'lógiacj', 'lógiack', 'lógiacl', 'lógiacm', 'lógiacn', 'lógiaco', 'lógiacp', 'lógiacq', 'lógiacr', 'lógiacs', 'lógiact', 'lógiacu', 'lógiacv', 'lógiacw', 'lógiacx', 'lógiacy', 'lógiacz', 'lógiacá', 'lógiacâ', 'lógiacà', 'lógiacã', 'lógiacé', 'lógiacê', 'lógiacè', 'lógiacẽ', 'lógiací', 'lógiacî', 'lógiacì', 'lógiacĩ', 'lógiacó', 'lógiacô', 'lógiacõ', 'lógiacò', 'lógiacú', 'lógiacû', 'lógiacù', 'lógiacũ', 'lógiacç', 'ógiac', 'lgiac', 'lóiac', 'lógac', 'lógic', 'lógia', 'lógiac', 'aógiac', 'bógiac', 'cógiac', 'dógiac', 'eógiac', 'fógiac', 'gógiac', 'hógiac', 'iógiac', 'jógiac', 'kógiac', 'lógiac', 'mógiac', 'nógiac', 'oógiac', 'pógiac', 'qógiac', 'rógiac', 'sógiac', 'tógiac', 'uógiac', 'vógiac', 'wógiac', 'xógiac', 'yógiac', 'zógiac', 'áógiac', 'âógiac', 'àógiac', 'ãógiac', 'éógiac', 'êógiac', 'èógiac', 'ẽógiac', 'íógiac', 'îógiac', 'ìógiac', 'ĩógiac', 'óógiac', 'ôógiac', 'õógiac', 'òógiac', 'úógiac', 'ûógiac', 'ùógiac', 'ũógiac', 'çógiac', 'lagiac', 'lbgiac', 'lcgiac', 'ldgiac', 'legiac', 'lfgiac', 'lggiac', 'lhgiac', 'ligiac', 'ljgiac', 'lkgiac', 'llgiac', 'lmgiac', 'lngiac', 'logiac', 'lpgiac', 'lqgiac', 'lrgiac', 'lsgiac', 'ltgiac', 'lugiac', 'lvgiac', 'lwgiac', 'lxgiac', 'lygiac', 'lzgiac', 'lágiac', 'lâgiac', 'làgiac', 'lãgiac', 'légiac', 'lêgiac', 'lègiac', 'lẽgiac', 'lígiac', 'lîgiac', 'lìgiac', 'lĩgiac', 'lógiac', 'lôgiac', 'lõgiac', 'lògiac', 'lúgiac', 'lûgiac', 'lùgiac', 'lũgiac', 'lçgiac', 'lóaiac', 'lóbiac', 'lóciac', 'lódiac', 'lóeiac', 'lófiac', 'lógiac', 'lóhiac', 'lóiiac', 'lójiac', 'lókiac', 'lóliac', 'lómiac', 'lóniac', 'lóoiac', 'lópiac', 'lóqiac', 'lóriac', 'lósiac', 'lótiac', 'lóuiac', 'lóviac', 'lówiac', 'lóxiac', 'lóyiac', 'lóziac', 'lóáiac', 'lóâiac', 'lóàiac', 'lóãiac', 'lóéiac', 'lóêiac', 'lóèiac', 'lóẽiac', 'lóíiac', 'lóîiac', 'lóìiac', 'lóĩiac', 'lóóiac', 'lóôiac', 'lóõiac', 'lóòiac', 'lóúiac', 'lóûiac', 'lóùiac', 'lóũiac', 'lóçiac', 'lógaac', 'lógbac', 'lógcac', 'lógdac', 'lógeac', 'lógfac', 'lóggac', 'lóghac', 'lógiac', 'lógjac', 'lógkac', 'lóglac', 'lógmac', 'lógnac', 'lógoac', 'lógpac', 'lógqac', 'lógrac', 'lógsac', 'lógtac', 'lóguac', 'lógvac', 'lógwac', 'lógxac', 'lógyac', 'lógzac', 'lógáac', 'lógâac', 'lógàac', 'lógãac', 'lógéac', 'lógêac', 'lógèac', 'lógẽac', 'lógíac', 'lógîac', 'lógìac', 'lógĩac', 'lógóac', 'lógôac', 'lógõac', 'lógòac', 'lógúac', 'lógûac', 'lógùac', 'lógũac', 'lógçac', 'lógiac', 'lógibc', 'lógicc', 'lógidc', 'lógiec', 'lógifc', 'lógigc', 'lógihc', 'lógiic', 'lógijc', 'lógikc', 'lógilc', 'lógimc', 'lóginc', 'lógioc', 'lógipc', 'lógiqc', 'lógirc', 'lógisc', 'lógitc', 'lógiuc', 'lógivc', 'lógiwc', 'lógixc', 'lógiyc', 'lógizc', 'lógiác', 'lógiâc', 'lógiàc', 'lógiãc', 'lógiéc', 'lógiêc', 'lógièc', 'lógiẽc', 'lógiíc', 'lógiîc', 'lógiìc', 'lógiĩc', 'lógióc', 'lógiôc', 'lógiõc', 'lógiòc', 'lógiúc', 'lógiûc', 'lógiùc', 'lógiũc', 'lógiçc', 'lógiaa', 'lógiab', 'lógiac', 'lógiad', 'lógiae', 'lógiaf', 'lógiag', 'lógiah', 'lógiai', 'lógiaj', 'lógiak', 'lógial', 'lógiam', 'lógian', 'lógiao', 'lógiap', 'lógiaq', 'lógiar', 'lógias', 'lógiat', 'lógiau', 'lógiav', 'lógiaw', 'lógiax', 'lógiay', 'lógiaz', 'lógiaá', 'lógiaâ', 'lógiaà', 'lógiaã', 'lógiaé', 'lógiaê', 'lógiaè', 'lógiaẽ', 'lógiaí', 'lógiaî', 'lógiaì', 'lógiaĩ', 'lógiaó', 'lógiaô', 'lógiaõ', 'lógiaò', 'lógiaú', 'lógiaû', 'lógiaù', 'lógiaũ', 'lógiaç', 'lógiaca', 'lógiacb', 'lógiacc', 'lógiacd', 'lógiace', 'lógiacf', 'lógiacg', 'lógiach', 'lógiaci', 'lógiacj', 'lógiack', 'lógiacl', 'lógiacm', 'lógiacn', 'lógiaco', 'lógiacp', 'lógiacq', 'lógiacr', 'lógiacs', 'lógiact', 'lógiacu', 'lógiacv', 'lógiacw', 'lógiacx', 'lógiacy', 'lógiacz', 'lógiacá', 'lógiacâ', 'lógiacà', 'lógiacã', 'lógiacé', 'lógiacê', 'lógiacè', 'lógiacẽ', 'lógiací', 'lógiacî', 'lógiacì', 'lógiacĩ', 'lógiacó', 'lógiacô', 'lógiacõ', 'lógiacò', 'lógiacú', 'lógiacû', 'lógiacù', 'lógiacũ', 'lógiacç', 'ólgiac', 'lgóiac', 'lóigac', 'lógaic', 'lógica']\n"
          ]
        }
      ],
      "source": [
        "# Insere letras na palavra errada a fim de corrigir erros como não digitação de um caracter\n",
        "# ex: \"lgica\", corrreção \"lógica\"\n",
        "def insere_letras(fatias):\n",
        "    novas_palavras = []\n",
        "    letras = 'abcdefghijklmnopqrstuvwxyzáâàãéêèẽíîìĩóôõòúûùũç'\n",
        "    for E, D in fatias:\n",
        "        for letra in letras:\n",
        "            novas_palavras.append(E + letra + D)\n",
        "    return novas_palavras\n",
        "# Deleta letras na palavra errada a fim de corrigir erros como digitação de um caracter a mais\n",
        "# ex: \"lóigica\", corrreção \"lógica\"\n",
        "def deletando_caracteres(fatias):\n",
        "    novas_palavras = []\n",
        "    for E, D in fatias:\n",
        "        novas_palavras.append(E + D[1:])\n",
        "    return novas_palavras\n",
        "# troca as letras na palavra errada a fim de corrigir erros como digitação de um caracter errado\n",
        "# ex: \"lígica\", corrreção \"lógica\"\n",
        "def troca_letra(fatias):\n",
        "    novas_palavras = []\n",
        "    letras = 'abcdefghijklmnopqrstuvwxyzáâàãéêèẽíîìĩóôõòúûùũç'\n",
        "    for E, D in fatias:\n",
        "        for letra in letras:\n",
        "            novas_palavras.append(E + letra + D[1:])\n",
        "    return novas_palavras\n",
        "# Inverte as letras na palavra errada a fim de corrigir erros como digitação de um caracter na posição de outro\n",
        "# ex: \"lgóica\", corrreção \"lógica\"\n",
        "def inverte_letra(fatias):\n",
        "    novas_palavras = []\n",
        "    for E, D in fatias:\n",
        "        if len(D) > 1:\n",
        "            novas_palavras.append(E + D[1] + D[0] + D[2:])\n",
        "    return novas_palavras\n",
        "# Realiza a chamada das funções acima passando como parâmetro uma tupla da palavra errada \n",
        "# dividindo em lado esquerdo e direito para manipulação da string \n",
        "# e através das funções gerar todas as possíveis palavras corretas\n",
        "def gerador_palavras(palavra):\n",
        "    fatias = []\n",
        "    for i in range(len(palavra)+1):\n",
        "        fatias.append((palavra[:i],palavra[i:]))\n",
        "    palavras_geradas = insere_letras(fatias)\n",
        "    palavras_geradas += deletando_caracteres(fatias)\n",
        "    palavras_geradas += troca_letra(fatias)\n",
        "    palavras_geradas += inverte_letra(fatias)\n",
        "    return palavras_geradas\n",
        "\n",
        "palavra_exemplo = \"lógiac\"\n",
        "palavras_geradas = gerador_palavras(palavra_exemplo)\n",
        "print(palavras_geradas)"
      ]
    },
    {
      "cell_type": "code",
      "execution_count": 26,
      "metadata": {
        "id": "ot_OdS6JbHsJ"
      },
      "outputs": [],
      "source": [
        "# Realiza a chamada da função gerador_palavras\n",
        "def corretor(palavra, vocabulario):\n",
        "    palavras_geradas = gerador_palavras(palavra)\n",
        "    candidatos = [palavra]\n",
        "    for palavra in palavras_geradas:\n",
        "        # Verifica se a palavra gerada está presente no corpus do corretor \n",
        "        # para só então adicioná-la como possível resposta\n",
        "        if palavra in vocabulario:\n",
        "            candidatos.append(palavra)\n",
        "    # Chama a função probabilidade dentro da função max para retornar a palavra \n",
        "    # com maior porcentagem de chance de ser a correta de acordo com o corpus\n",
        "    palavra_correta = max(candidatos, key=probabilidade) \n",
        "    return palavra_correta"
      ]
    },
    {
      "cell_type": "code",
      "execution_count": 27,
      "metadata": {
        "colab": {
          "base_uri": "https://localhost:8080/",
          "height": 35
        },
        "id": "LY-lTv4E6sP0",
        "outputId": "513cd594-eddf-49a4-f486-64d8df15b6e9"
      },
      "outputs": [
        {
          "output_type": "execute_result",
          "data": {
            "text/plain": [
              "'lógica'"
            ],
            "application/vnd.google.colaboratory.intrinsic+json": {
              "type": "string"
            }
          },
          "metadata": {},
          "execution_count": 27
        }
      ],
      "source": [
        "palavra = \"lóiigica\"\n",
        "\n",
        "# Função utilizada para correção a dois passos de distância, chamando novamente o gerador original como por exemplo: \n",
        "# \"lógiiica\" onde há a repetição do caracter 2 vezes\n",
        "def gerador_turbinado(palavras_geradas):\n",
        "    novas_palavras = []\n",
        "    for palavra in palavras_geradas:\n",
        "        novas_palavras += gerador_palavras(palavra)\n",
        "    return novas_palavras\n",
        "\n",
        "def novo_corretor(palavra, vocabulario):\n",
        "    palavras_geradas = gerador_palavras(palavra)\n",
        "    palavras_turbinado = gerador_turbinado(palavras_geradas)\n",
        "    todas_palavras = set(palavras_geradas + palavras_turbinado)\n",
        "    candidatos = [palavra]\n",
        "    for palavra in todas_palavras:\n",
        "        if palavra in vocabulario:\n",
        "            candidatos.append(palavra)\n",
        "    palavra_correta = max(candidatos, key=probabilidade)\n",
        "    return palavra_correta\n",
        "\n",
        "novo_corretor(palavra, vocabulario)"
      ]
    },
    {
      "cell_type": "code",
      "execution_count": 28,
      "metadata": {
        "colab": {
          "base_uri": "https://localhost:8080/"
        },
        "id": "wwehYS7MdaTB",
        "outputId": "a060361b-9869-4db1-e7f1-66f25a50c447"
      },
      "outputs": [
        {
          "output_type": "execute_result",
          "data": {
            "text/plain": [
              "[('podemos', 'pyodemos'),\n",
              " ('esse', 'esje'),\n",
              " ('já', 'jrá'),\n",
              " ('nosso', 'nossov'),\n",
              " ('são', 'sãêo'),\n",
              " ('dos', 'dosa'),\n",
              " ('muito', 'muifo'),\n",
              " ('imagem', 'iômagem'),\n",
              " ('sua', 'ósua'),\n",
              " ('também', 'tambéùm')]"
            ]
          },
          "metadata": {},
          "execution_count": 28
        }
      ],
      "source": [
        "#  Realiza a leitura de um arquivo de texto com casos para verificação criando uma tupla com um lado correto \n",
        "# e outro para teste\n",
        "def cria_dados_teste(nome_arquivo):\n",
        "    lista_palavras_teste = []\n",
        "    f = open(nome_arquivo, \"r\")\n",
        "    for linha in f:\n",
        "        correta, errada = linha.split()\n",
        "        lista_palavras_teste.append((correta, errada))\n",
        "    f.close()\n",
        "    return lista_palavras_teste\n",
        "\n",
        "lista_teste = cria_dados_teste(\"palavras.txt\")\n",
        "lista_teste[:10]"
      ]
    },
    {
      "cell_type": "code",
      "execution_count": 29,
      "metadata": {
        "colab": {
          "base_uri": "https://localhost:8080/"
        },
        "id": "jWWR0FFgbTJ1",
        "outputId": "247aa3bc-6caa-425c-953f-209e736f6c27"
      },
      "outputs": [
        {
          "output_type": "stream",
          "name": "stdout",
          "text": [
            "Corretor para casos símples:\n",
            "76.88% de 186 palavras, desconhecida é 6.99%\n",
            "Corretor para casos múltiplos: \n",
            "55.38% de 186 palavras, desconhecida é 6.99%\n"
          ]
        }
      ],
      "source": [
        "# Cálcula a porcentagem de palavras corrigidas dentro da lista de testes e a quantidade de palavras desconhecidas.\n",
        "def avaliador(testes, vocabulario, corretor):\n",
        "    numero_palavras = len(testes)\n",
        "    acertou = 0\n",
        "    desconhecida = 0\n",
        "    for correta, errada in testes:\n",
        "        palavra_corrigida = corretor(errada, vocabulario)\n",
        "        desconhecida += (correta not in vocabulario)\n",
        "        if palavra_corrigida == correta:\n",
        "            acertou += 1 \n",
        "    taxa_acerto = round(acertou*100/numero_palavras, 2)\n",
        "    taxa_desconhecida = round(desconhecida*100/numero_palavras, 2)\n",
        "    print(f\"{taxa_acerto}% de {numero_palavras} palavras, desconhecida é {taxa_desconhecida}%\")\n",
        "\n",
        "vocabulario = set(lista_normalizada)\n",
        "print(\"Corretor para casos símples:\", )\n",
        "avaliador(lista_teste, vocabulario, corretor)\n",
        "print(\"Corretor para casos múltiplos: \")\n",
        "avaliador(lista_teste, vocabulario, novo_corretor)"
      ]
    },
    {
      "cell_type": "code",
      "execution_count": 30,
      "metadata": {
        "colab": {
          "base_uri": "https://localhost:8080/"
        },
        "id": "DiV344QAeWif",
        "outputId": "c09fa52d-23a1-472d-e930-89fe0fa4b6c6"
      },
      "outputs": [
        {
          "output_type": "stream",
          "name": "stdout",
          "text": [
            "Digite uma palavra errada: lógiica\n",
            "Corretor para casos símples:\n",
            "lógica\n",
            "Corretor para casos múltiplos: \n",
            "lógica\n"
          ]
        }
      ],
      "source": [
        "palavra = input(\"Digite uma palavra errada: \")\n",
        "print(\"Corretor para casos símples:\", )\n",
        "print(corretor(palavra, vocabulario))\n",
        "print(\"Corretor para casos múltiplos: \")\n",
        "print(novo_corretor(palavra, vocabulario))"
      ]
    }
  ],
  "metadata": {
    "colab": {
      "provenance": [],
      "include_colab_link": true
    },
    "kernelspec": {
      "display_name": "Python 3",
      "language": "python",
      "name": "python3"
    },
    "language_info": {
      "codemirror_mode": {
        "name": "ipython",
        "version": 3
      },
      "file_extension": ".py",
      "mimetype": "text/x-python",
      "name": "python",
      "nbconvert_exporter": "python",
      "pygments_lexer": "ipython3",
      "version": "3.7.4"
    }
  },
  "nbformat": 4,
  "nbformat_minor": 0
}